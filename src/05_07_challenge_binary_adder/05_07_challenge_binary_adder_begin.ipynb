{
 "cells": [
  {
   "cell_type": "code",
   "execution_count": 22,
   "metadata": {},
   "outputs": [],
   "source": [
    "from qiskit import *\n",
    "%matplotlib inline"
   ]
  },
  {
   "cell_type": "code",
   "execution_count": 23,
   "metadata": {},
   "outputs": [
    {
     "ename": "CircuitError",
     "evalue": "'Index 4 out of range for size 4.'",
     "output_type": "error",
     "traceback": [
      "\u001b[0;31m---------------------------------------------------------------------------\u001b[0m",
      "\u001b[0;31mIndexError\u001b[0m                                Traceback (most recent call last)",
      "File \u001b[0;32m~/.local/lib/python3.10/site-packages/qiskit/circuit/quantumcircuit.py:5108\u001b[0m, in \u001b[0;36m_bit_argument_conversion\u001b[0;34m(specifier, bit_sequence, bit_set, type_)\u001b[0m\n\u001b[1;32m   5107\u001b[0m \u001b[39mtry\u001b[39;00m:\n\u001b[0;32m-> 5108\u001b[0m     \u001b[39mreturn\u001b[39;00m [bit_sequence[specifier]]\n\u001b[1;32m   5109\u001b[0m \u001b[39mexcept\u001b[39;00m \u001b[39mIndexError\u001b[39;00m \u001b[39mas\u001b[39;00m ex:\n",
      "\u001b[0;31mIndexError\u001b[0m: list index out of range",
      "\nThe above exception was the direct cause of the following exception:\n",
      "\u001b[0;31mCircuitError\u001b[0m                              Traceback (most recent call last)",
      "Cell \u001b[0;32mIn[23], line 4\u001b[0m\n\u001b[1;32m      2\u001b[0m circuit\u001b[39m.\u001b[39mx(\u001b[39m2\u001b[39m) \u001b[39m# initalize input A\u001b[39;00m\n\u001b[1;32m      3\u001b[0m circuit\u001b[39m.\u001b[39mx(\u001b[39m1\u001b[39m) \u001b[39m# initalize input B\u001b[39;00m\n\u001b[0;32m----> 4\u001b[0m circuit\u001b[39m.\u001b[39;49mbarrier(\u001b[39m4\u001b[39;49m)\n\u001b[1;32m      5\u001b[0m circuit \u001b[39m=\u001b[39m QuantumCircuit(\u001b[39m4\u001b[39m, \u001b[39m2\u001b[39m)\n\u001b[1;32m      6\u001b[0m circuit\u001b[39m.\u001b[39mbarrier(\u001b[39m1\u001b[39m)\n",
      "File \u001b[0;32m~/.local/lib/python3.10/site-packages/qiskit/circuit/quantumcircuit.py:2924\u001b[0m, in \u001b[0;36mQuantumCircuit.barrier\u001b[0;34m(self, label, *qargs)\u001b[0m\n\u001b[1;32m   2921\u001b[0m     \u001b[39melse\u001b[39;00m:\n\u001b[1;32m   2922\u001b[0m         qubits\u001b[39m.\u001b[39mappend(qarg)\n\u001b[0;32m-> 2924\u001b[0m \u001b[39mreturn\u001b[39;00m \u001b[39mself\u001b[39;49m\u001b[39m.\u001b[39;49mappend(Barrier(\u001b[39mlen\u001b[39;49m(qubits), label\u001b[39m=\u001b[39;49mlabel), qubits, [])\n",
      "File \u001b[0;32m~/.local/lib/python3.10/site-packages/qiskit/circuit/quantumcircuit.py:1287\u001b[0m, in \u001b[0;36mQuantumCircuit.append\u001b[0;34m(self, instruction, qargs, cargs)\u001b[0m\n\u001b[1;32m   1284\u001b[0m     \u001b[39mif\u001b[39;00m is_parameter:\n\u001b[1;32m   1285\u001b[0m         operation \u001b[39m=\u001b[39m copy\u001b[39m.\u001b[39mdeepcopy(operation)\n\u001b[0;32m-> 1287\u001b[0m expanded_qargs \u001b[39m=\u001b[39m [\u001b[39mself\u001b[39m\u001b[39m.\u001b[39mqbit_argument_conversion(qarg) \u001b[39mfor\u001b[39;00m qarg \u001b[39min\u001b[39;00m qargs \u001b[39mor\u001b[39;00m []]\n\u001b[1;32m   1288\u001b[0m expanded_cargs \u001b[39m=\u001b[39m [\u001b[39mself\u001b[39m\u001b[39m.\u001b[39mcbit_argument_conversion(carg) \u001b[39mfor\u001b[39;00m carg \u001b[39min\u001b[39;00m cargs \u001b[39mor\u001b[39;00m []]\n\u001b[1;32m   1290\u001b[0m \u001b[39mif\u001b[39;00m \u001b[39mself\u001b[39m\u001b[39m.\u001b[39m_control_flow_scopes:\n",
      "File \u001b[0;32m~/.local/lib/python3.10/site-packages/qiskit/circuit/quantumcircuit.py:1287\u001b[0m, in \u001b[0;36m<listcomp>\u001b[0;34m(.0)\u001b[0m\n\u001b[1;32m   1284\u001b[0m     \u001b[39mif\u001b[39;00m is_parameter:\n\u001b[1;32m   1285\u001b[0m         operation \u001b[39m=\u001b[39m copy\u001b[39m.\u001b[39mdeepcopy(operation)\n\u001b[0;32m-> 1287\u001b[0m expanded_qargs \u001b[39m=\u001b[39m [\u001b[39mself\u001b[39;49m\u001b[39m.\u001b[39;49mqbit_argument_conversion(qarg) \u001b[39mfor\u001b[39;00m qarg \u001b[39min\u001b[39;00m qargs \u001b[39mor\u001b[39;00m []]\n\u001b[1;32m   1288\u001b[0m expanded_cargs \u001b[39m=\u001b[39m [\u001b[39mself\u001b[39m\u001b[39m.\u001b[39mcbit_argument_conversion(carg) \u001b[39mfor\u001b[39;00m carg \u001b[39min\u001b[39;00m cargs \u001b[39mor\u001b[39;00m []]\n\u001b[1;32m   1290\u001b[0m \u001b[39mif\u001b[39;00m \u001b[39mself\u001b[39m\u001b[39m.\u001b[39m_control_flow_scopes:\n",
      "File \u001b[0;32m~/.local/lib/python3.10/site-packages/qiskit/circuit/quantumcircuit.py:1168\u001b[0m, in \u001b[0;36mQuantumCircuit.qbit_argument_conversion\u001b[0;34m(self, qubit_representation)\u001b[0m\n\u001b[1;32m   1157\u001b[0m \u001b[39mdef\u001b[39;00m \u001b[39mqbit_argument_conversion\u001b[39m(\u001b[39mself\u001b[39m, qubit_representation: QubitSpecifier) \u001b[39m-\u001b[39m\u001b[39m>\u001b[39m \u001b[39mlist\u001b[39m[Qubit]:\n\u001b[1;32m   1158\u001b[0m \u001b[39m    \u001b[39m\u001b[39m\"\"\"\u001b[39;00m\n\u001b[1;32m   1159\u001b[0m \u001b[39m    Converts several qubit representations (such as indexes, range, etc.)\u001b[39;00m\n\u001b[1;32m   1160\u001b[0m \u001b[39m    into a list of qubits.\u001b[39;00m\n\u001b[0;32m   (...)\u001b[0m\n\u001b[1;32m   1166\u001b[0m \u001b[39m        List(Qubit): the resolved instances of the qubits.\u001b[39;00m\n\u001b[1;32m   1167\u001b[0m \u001b[39m    \"\"\"\u001b[39;00m\n\u001b[0;32m-> 1168\u001b[0m     \u001b[39mreturn\u001b[39;00m _bit_argument_conversion(\n\u001b[1;32m   1169\u001b[0m         qubit_representation, \u001b[39mself\u001b[39;49m\u001b[39m.\u001b[39;49mqubits, \u001b[39mself\u001b[39;49m\u001b[39m.\u001b[39;49m_qubit_indices, Qubit\n\u001b[1;32m   1170\u001b[0m     )\n",
      "File \u001b[0;32m~/.local/lib/python3.10/site-packages/qiskit/circuit/quantumcircuit.py:5110\u001b[0m, in \u001b[0;36m_bit_argument_conversion\u001b[0;34m(specifier, bit_sequence, bit_set, type_)\u001b[0m\n\u001b[1;32m   5108\u001b[0m         \u001b[39mreturn\u001b[39;00m [bit_sequence[specifier]]\n\u001b[1;32m   5109\u001b[0m     \u001b[39mexcept\u001b[39;00m \u001b[39mIndexError\u001b[39;00m \u001b[39mas\u001b[39;00m ex:\n\u001b[0;32m-> 5110\u001b[0m         \u001b[39mraise\u001b[39;00m CircuitError(\n\u001b[1;32m   5111\u001b[0m             \u001b[39mf\u001b[39m\u001b[39m\"\u001b[39m\u001b[39mIndex \u001b[39m\u001b[39m{\u001b[39;00mspecifier\u001b[39m}\u001b[39;00m\u001b[39m out of range for size \u001b[39m\u001b[39m{\u001b[39;00m\u001b[39mlen\u001b[39m(bit_sequence)\u001b[39m}\u001b[39;00m\u001b[39m.\u001b[39m\u001b[39m\"\u001b[39m\n\u001b[1;32m   5112\u001b[0m         ) \u001b[39mfrom\u001b[39;00m \u001b[39mex\u001b[39;00m\n\u001b[1;32m   5113\u001b[0m \u001b[39m# Slices can't raise IndexError - they just return an empty list.\u001b[39;00m\n\u001b[1;32m   5114\u001b[0m \u001b[39mif\u001b[39;00m \u001b[39misinstance\u001b[39m(specifier, \u001b[39mslice\u001b[39m):\n",
      "\u001b[0;31mCircuitError\u001b[0m: 'Index 4 out of range for size 4.'"
     ]
    },
    {
     "name": "stderr",
     "output_type": "stream",
     "text": [
      "Bad pipe message: %s [b'A\\xf3\\xf5\\xa9\\xf8\\x81\\x92\\x05\\x05w\\x07\\xf6\\xab\\x13\\xd4\\xc9\\x04+ \\x06?\\x05\\xb8\\xf7H\\x93\\x92\\x7f\\x99\\xcfa\\xd2|k\\x94\\x8a\\xd7@\\x01\\x84W\\xb8\\xd3q\\xba\\xfa\\x1c\\x01\\xc2\\x91\\xe0\\x00\\x08\\x13\\x02\\x13\\x03\\x13\\x01\\x00\\xff\\x01\\x00\\x00\\x8f\\x00\\x00\\x00\\x0e\\x00\\x0c\\x00\\x00\\t127.0.0.1\\x00\\x0b\\x00\\x04\\x03\\x00\\x01\\x02\\x00\\n\\x00\\x0c\\x00\\n\\x00\\x1d\\x00\\x17']\n",
      "Bad pipe message: %s [b'h\\xcf\\xa16\\x82\\x86\\xca\\xb5\\x8c\\xbcj\\x0b\\x8c\\x9c\\x9e\\xee\\t\\x18 \\xf1Cl\\xd5\\xb8-\\x90\\xfb]iA7\\xfa\\xb5\\xf6J\\x89H\\x87\\x08%\\n\\xa1\\xc3\\x90\\xd5\\xeaW\\xdc\\xea\\x1e\\xa1\\x00\\x08\\x13\\x02', b'\\x13\\x01\\x00\\xff\\x01\\x00\\x00\\x8f\\x00\\x00\\x00\\x0e\\x00\\x0c\\x00\\x00\\t1', b'.0.0.1\\x00\\x0b\\x00\\x04\\x03\\x00\\x01\\x02\\x00\\n\\x00\\x0c\\x00\\n\\x00\\x1d\\x00\\x17\\x00\\x1e\\x00\\x19\\x00\\x18\\x00#\\x00\\x00\\x00\\x16\\x00\\x00\\x00\\x17\\x00\\x00\\x00\\r\\x00\\x1e\\x00\\x1c\\x04', b'\\x03\\x06', b'\\x07\\x08']\n",
      "Bad pipe message: %s [b'\\t\\x08\\n\\x08\\x0b\\x08\\x04']\n",
      "Bad pipe message: %s [b'\\x08\\x06\\x04\\x01\\x05\\x01\\x06', b'']\n",
      "Bad pipe message: %s [b'\\x03\\x02\\x03\\x04\\x00-\\x00\\x02\\x01\\x01\\x003\\x00&\\x00$\\x00\\x1d\\x00 p\\xecPy\\xa9\\xa9\\x7fR\\x05\\xa4p5\"\\x8d\\x88\\x9d\\xfe+\\xc4C\\xda\\x8e']\n",
      "Bad pipe message: %s [b\"\\xd3i48\\xe8\\x80T\\xbc\\x8e\\xce\\xa1@\\xf3\\\\hky\\x7f\\x00\\x00\\xa6\\xc0,\\xc00\\x00\\xa3\\x00\\x9f\\xcc\\xa9\\xcc\\xa8\\xcc\\xaa\\xc0\\xaf\\xc0\\xad\\xc0\\xa3\\xc0\\x9f\\xc0]\\xc0a\\xc0W\\xc0S\\xc0+\\xc0/\\x00\\xa2\\x00\\x9e\\xc0\\xae\\xc0\\xac\\xc0\\xa2\\xc0\\x9e\\xc0\\\\\\xc0`\\xc0V\\xc0R\\xc0$\\xc0(\\x00k\\x00j\\xc0s\\xc0w\\x00\\xc4\\x00\\xc3\\xc0#\\xc0'\\x00g\\x00@\\xc0r\\xc0v\\x00\\xbe\\x00\\xbd\\xc0\\n\\xc0\\x14\\x009\\x008\\x00\\x88\\x00\\x87\\xc0\\t\\xc0\\x13\\x003\\x002\\x00\\x9a\\x00\\x99\\x00E\\x00D\\xc0\\x07\\xc0\\x11\\xc0\\x08\\xc0\\x12\\x00\\x16\\x00\\x13\\x00\\x9d\\xc0\\xa1\\xc0\\x9d\\xc0Q\\x00\\x9c\\xc0\\xa0\\xc0\\x9c\\xc0P\\x00=\"]\n",
      "Bad pipe message: %s [b'\\x8fg\\xe6\\xde\\xff\\xe2\\xfe\\x04c\\xc28T\\x1e\\x96\\x10\\xbe\\x95z\\x00\\x00\\xa2\\xc0\\x14\\xc0\\n\\x009\\x008\\x007\\x006\\x00\\x88\\x00\\x87\\x00\\x86\\x00\\x85\\xc0\\x19\\x00:\\x00\\x89']\n",
      "Bad pipe message: %s [b'\\xa4\\x92\\x10\\x9a.g\\xa6\\xd4\\xd3\\xe3\\xc3\\xdf\\xe2\\x8c\"v\\x9d*\\x00\\x00\\x86\\xc00\\xc0,\\xc0(\\xc0$\\xc0\\x14\\xc0\\n\\x00\\xa5\\x00\\xa3\\x00\\xa1\\x00\\x9f\\x00k\\x00j\\x00i\\x00h\\x009\\x008\\x007\\x006\\xc02\\xc0.\\xc0*\\xc0&\\xc0']\n",
      "Bad pipe message: %s [b\"\\x05\\x00\\x9d\\x00=\\x005\\xc0/\\xc0+\\xc0'\\xc0\"]\n",
      "Bad pipe message: %s [b'\\x13\\xc0\\t\\x00\\xa4\\x00\\xa2\\x00\\xa0\\x00\\x9e\\x00g\\x00@\\x00?\\x00>\\x003\\x002\\x001\\x000\\xc01\\xc0-\\xc0)\\xc0']\n",
      "Bad pipe message: %s [b'\\x0e\\xc0\\x04\\x00\\x9c\\x00<\\x00/\\x00\\x9a\\x00\\x99\\x00\\x98\\x00\\x97\\x00\\x96\\x00\\x07\\xc0\\x11\\xc0\\x07\\xc0\\x0c\\xc0\\x02\\x00\\x05\\x00\\x04\\x00\\xff\\x02']\n",
      "Bad pipe message: %s [b'']\n"
     ]
    }
   ],
   "source": [
    "circuit = QuantumCircuit(4, 2)\n",
    "circuit.x(2) # initalize input A\n",
    "circuit.x(1) # initalize inpu\n",
    "circuit.barrier(4)\n",
    "circuit = QuantumCircuit(4, 2)\n",
    "circuit.barrier(1)\n",
    "circuit.measure(4, 1) # measure SUM\n",
    "circuit.measure(2, 0\n",
    ") # measure CARRY-OUT"
   ]
  },
  {
   "cell_type": "code",
   "execution_count": null,
   "metadata": {},
   "outputs": [
    {
     "ename": "QiskitError",
     "evalue": "'No counts for experiment \"0\"'",
     "output_type": "error",
     "traceback": [
      "\u001b[0;31m---------------------------------------------------------------------------\u001b[0m",
      "\u001b[0;31mQiskitError\u001b[0m                               Traceback (most recent call last)",
      "Cell \u001b[0;32mIn[9], line 4\u001b[0m\n\u001b[1;32m      2\u001b[0m simulator \u001b[39m=\u001b[39m Aer\u001b[39m.\u001b[39mget_backend(\u001b[39m'\u001b[39m\u001b[39mqasm_simulator\u001b[39m\u001b[39m'\u001b[39m)\n\u001b[1;32m      3\u001b[0m result \u001b[39m=\u001b[39m execute(circuit, backend\u001b[39m=\u001b[39msimulator, shots\u001b[39m=\u001b[39m\u001b[39m1\u001b[39m)\u001b[39m.\u001b[39mresult()\n\u001b[0;32m----> 4\u001b[0m counts \u001b[39m=\u001b[39m result\u001b[39m.\u001b[39;49mget_counts()\n\u001b[1;32m      5\u001b[0m \u001b[39mprint\u001b[39m(\u001b[39mf\u001b[39m\u001b[39m'\u001b[39m\u001b[39mSUM is \u001b[39m\u001b[39m{\u001b[39;00m\u001b[39mlist\u001b[39m(counts\u001b[39m.\u001b[39mkeys())[\u001b[39m0\u001b[39m][\u001b[39m1\u001b[39m]\u001b[39m}\u001b[39;00m\u001b[39m'\u001b[39m)\n\u001b[1;32m      6\u001b[0m \u001b[39mprint\u001b[39m(\u001b[39mf\u001b[39m\u001b[39m'\u001b[39m\u001b[39mCARRY-OUT is \u001b[39m\u001b[39m{\u001b[39;00m\u001b[39mlist\u001b[39m(counts\u001b[39m.\u001b[39mkeys())[\u001b[39m0\u001b[39m][\u001b[39m0\u001b[39m]\u001b[39m}\u001b[39;00m\u001b[39m'\u001b[39m)\n",
      "File \u001b[0;32m~/.local/lib/python3.10/site-packages/qiskit/result/result.py:289\u001b[0m, in \u001b[0;36mResult.get_counts\u001b[0;34m(self, experiment)\u001b[0m\n\u001b[1;32m    287\u001b[0m         dict_list\u001b[39m.\u001b[39mappend(statevector\u001b[39m.\u001b[39mStatevector(vec)\u001b[39m.\u001b[39mprobabilities_dict(decimals\u001b[39m=\u001b[39m\u001b[39m15\u001b[39m))\n\u001b[1;32m    288\u001b[0m     \u001b[39melse\u001b[39;00m:\n\u001b[0;32m--> 289\u001b[0m         \u001b[39mraise\u001b[39;00m QiskitError(\u001b[39mf\u001b[39m\u001b[39m'\u001b[39m\u001b[39mNo counts for experiment \u001b[39m\u001b[39m\"\u001b[39m\u001b[39m{\u001b[39;00m\u001b[39mrepr\u001b[39m(key)\u001b[39m}\u001b[39;00m\u001b[39m\"\u001b[39m\u001b[39m'\u001b[39m)\n\u001b[1;32m    291\u001b[0m \u001b[39m# Return first item of dict_list if size is 1\u001b[39;00m\n\u001b[1;32m    292\u001b[0m \u001b[39mif\u001b[39;00m \u001b[39mlen\u001b[39m(dict_list) \u001b[39m==\u001b[39m \u001b[39m1\u001b[39m:\n",
      "\u001b[0;31mQiskitError\u001b[0m: 'No counts for experiment \"0\"'"
     ]
    }
   ],
   "source": [
    "# simulate circuit and print message with SUM and CARRY-OUT states\n",
    "simulator = Aer.get_backend('qasm_simulator')\n",
    "result = execute(circuit, backend=simulator, shots=1).result()\n",
    "counts = result.get_counts()\n",
    "print(f'SUM is {list(counts.keys())[0][1]}')\n",
    "print(f'CARRY-OUT is {list(counts.keys())[0][0]}')"
   ]
  }
 ],
 "metadata": {
  "kernelspec": {
   "display_name": "Python 3.10.7 64-bit",
   "language": "python",
   "name": "python3"
  },
  "language_info": {
   "codemirror_mode": {
    "name": "ipython",
    "version": 3
   },
   "file_extension": ".py",
   "mimetype": "text/x-python",
   "name": "python",
   "nbconvert_exporter": "python",
   "pygments_lexer": "ipython3",
   "version": "3.10.4"
  },
  "orig_nbformat": 4,
  "vscode": {
   "interpreter": {
    "hash": "eb4a0ac80907d7f44e1a5e88d3d3381b33e3dbedd3a24d113e876f30a0c46bee"
   }
  }
 },
 "nbformat": 4,
 "nbformat_minor": 2
}
